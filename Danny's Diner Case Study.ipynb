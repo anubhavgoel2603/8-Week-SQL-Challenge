{
 "cells": [
  {
   "cell_type": "code",
   "execution_count": 35,
   "id": "fe8d6c12",
   "metadata": {},
   "outputs": [],
   "source": [
    "from pyspark.sql import SparkSession\n",
    "from pyspark.sql import functions as sf"
   ]
  },
  {
   "cell_type": "code",
   "execution_count": 36,
   "id": "54e8daa1",
   "metadata": {},
   "outputs": [],
   "source": [
    "spark = SparkSession.builder.appName(\"Danny's Diner\").getOrCreate()"
   ]
  },
  {
   "cell_type": "code",
   "execution_count": 37,
   "id": "a8487b18",
   "metadata": {},
   "outputs": [],
   "source": [
    "sales_data = [('A', '2021-01-01', '1'),\n",
    "  ('A', '2021-01-01', '2'),\n",
    "  ('A', '2021-01-07', '2'),\n",
    "  ('A', '2021-01-10', '3'),\n",
    "  ('A', '2021-01-11', '3'),\n",
    "  ('A', '2021-01-11', '3'),\n",
    "  ('B', '2021-01-01', '2'),\n",
    "  ('B', '2021-01-02', '2'),\n",
    "  ('B', '2021-01-04', '1'),\n",
    "  ('B', '2021-01-11', '1'),\n",
    "  ('B', '2021-01-16', '3'),\n",
    "  ('B', '2021-02-01', '3'),\n",
    "  ('C', '2021-01-01', '3'),\n",
    "  ('C', '2021-01-01', '3'),\n",
    "  ('C', '2021-01-07', '3')]\n",
    "\n",
    "sales_schema = \"\"\"customer_id string, order_date string, product_id string\"\"\""
   ]
  },
  {
   "cell_type": "code",
   "execution_count": 38,
   "id": "1871e5bb",
   "metadata": {},
   "outputs": [
    {
     "name": "stdout",
     "output_type": "stream",
     "text": [
      "root\n",
      " |-- customer_id: string (nullable = true)\n",
      " |-- order_date: date (nullable = true)\n",
      " |-- product_id: integer (nullable = true)\n",
      "\n",
      "+-----------+----------+----------+\n",
      "|customer_id|order_date|product_id|\n",
      "+-----------+----------+----------+\n",
      "|          A|2021-01-01|         1|\n",
      "|          A|2021-01-01|         2|\n",
      "|          A|2021-01-07|         2|\n",
      "|          A|2021-01-10|         3|\n",
      "|          A|2021-01-11|         3|\n",
      "|          A|2021-01-11|         3|\n",
      "|          B|2021-01-01|         2|\n",
      "|          B|2021-01-02|         2|\n",
      "|          B|2021-01-04|         1|\n",
      "|          B|2021-01-11|         1|\n",
      "|          B|2021-01-16|         3|\n",
      "|          B|2021-02-01|         3|\n",
      "|          C|2021-01-01|         3|\n",
      "|          C|2021-01-01|         3|\n",
      "|          C|2021-01-07|         3|\n",
      "+-----------+----------+----------+\n",
      "\n"
     ]
    }
   ],
   "source": [
    "sales_raw_df = spark.createDataFrame(sales_data,sales_schema)\n",
    "sales_df = sales_raw_df.select(\"customer_id\",sf.to_date(\"order_date\",'yyyy-MM-dd').alias(\"order_date\"),\n",
    "                               sf.col(\"product_id\").cast(\"int\"))\n",
    "sales_df.printSchema()\n",
    "sales_df.show()"
   ]
  },
  {
   "cell_type": "code",
   "execution_count": 39,
   "id": "68bfc138",
   "metadata": {},
   "outputs": [],
   "source": [
    "product_data = [(1, 'sushi', 10),\n",
    "  (2, 'curry', 15),\n",
    "  (3, 'ramen', 12)]\n",
    "\n",
    "product_schema = \"\"\"product_id int,product_name string,price int\"\"\""
   ]
  },
  {
   "cell_type": "code",
   "execution_count": 40,
   "id": "0b986083",
   "metadata": {},
   "outputs": [
    {
     "name": "stdout",
     "output_type": "stream",
     "text": [
      "root\n",
      " |-- product_id: integer (nullable = true)\n",
      " |-- product_name: string (nullable = true)\n",
      " |-- price: integer (nullable = true)\n",
      "\n",
      "+----------+------------+-----+\n",
      "|product_id|product_name|price|\n",
      "+----------+------------+-----+\n",
      "|         1|       sushi|   10|\n",
      "|         2|       curry|   15|\n",
      "|         3|       ramen|   12|\n",
      "+----------+------------+-----+\n",
      "\n"
     ]
    }
   ],
   "source": [
    "product_df = spark.createDataFrame(product_data,product_schema)\n",
    "\n",
    "product_df.printSchema()\n",
    "product_df.show()"
   ]
  },
  {
   "cell_type": "code",
   "execution_count": 41,
   "id": "c61a25e0",
   "metadata": {},
   "outputs": [],
   "source": [
    "member_data = [('A', '2021-01-07'),\n",
    "  ('B', '2021-01-09')]\n",
    "\n",
    "member_schema = \"\"\"customer_id string,join_date string\"\"\""
   ]
  },
  {
   "cell_type": "code",
   "execution_count": 42,
   "id": "d639f3f0",
   "metadata": {},
   "outputs": [
    {
     "name": "stdout",
     "output_type": "stream",
     "text": [
      "root\n",
      " |-- customer_id: string (nullable = true)\n",
      " |-- join_date: date (nullable = true)\n",
      "\n",
      "+-----------+----------+\n",
      "|customer_id| join_date|\n",
      "+-----------+----------+\n",
      "|          A|2021-01-07|\n",
      "|          B|2021-01-09|\n",
      "+-----------+----------+\n",
      "\n"
     ]
    }
   ],
   "source": [
    "member_raw_df = spark.createDataFrame(member_data,member_schema)\n",
    "member_df = member_raw_df.selectExpr(\"customer_id\",\"to_date(join_date,'yyyy-MM-dd') as join_date\")\n",
    "\n",
    "member_df.printSchema()\n",
    "member_df.show()"
   ]
  },
  {
   "cell_type": "markdown",
   "id": "2d5f5b81",
   "metadata": {},
   "source": [
    "Q1. What is the total amount each customer spent at the restaurant?"
   ]
  },
  {
   "cell_type": "code",
   "execution_count": 43,
   "id": "eb8ceac5",
   "metadata": {},
   "outputs": [
    {
     "name": "stdout",
     "output_type": "stream",
     "text": [
      "+-----------+------------------+\n",
      "|customer_id|Total_Amount_Spent|\n",
      "+-----------+------------------+\n",
      "|          A|                76|\n",
      "|          B|                74|\n",
      "|          C|                36|\n",
      "+-----------+------------------+\n",
      "\n"
     ]
    }
   ],
   "source": [
    "q1_df = sales_df.join(product_df,\"product_id\",\"inner\") \\\n",
    "                .groupBy(\"customer_id\") \\\n",
    "                .agg(sf.sum(\"price\").alias(\"Total_Amount_Spent\")) \\\n",
    "                .orderBy(\"customer_id\")\n",
    "q1_df.show()"
   ]
  },
  {
   "cell_type": "markdown",
   "id": "c420e9a7",
   "metadata": {},
   "source": [
    "Q2. How many days has each customer visited the restaurant?"
   ]
  },
  {
   "cell_type": "code",
   "execution_count": 44,
   "id": "084ee6fb",
   "metadata": {},
   "outputs": [
    {
     "name": "stdout",
     "output_type": "stream",
     "text": [
      "+-----------+----------------------------------+\n",
      "|customer_id|No. of days visited the restaurant|\n",
      "+-----------+----------------------------------+\n",
      "|          A|                                 4|\n",
      "|          B|                                 6|\n",
      "|          C|                                 2|\n",
      "+-----------+----------------------------------+\n",
      "\n"
     ]
    }
   ],
   "source": [
    "q2_df = sales_df.groupBy(\"customer_id\") \\\n",
    "                .agg(sf.countDistinct(\"order_date\").alias(\"No. of days visited the restaurant\")) \\\n",
    "                .orderBy(\"customer_id\")\n",
    "q2_df.show()"
   ]
  },
  {
   "cell_type": "markdown",
   "id": "795f6f44",
   "metadata": {},
   "source": [
    "Q3. What was the first item from the menu purchased by each customer?"
   ]
  },
  {
   "cell_type": "code",
   "execution_count": 45,
   "id": "174316c8",
   "metadata": {},
   "outputs": [],
   "source": [
    "from pyspark.sql import Window"
   ]
  },
  {
   "cell_type": "code",
   "execution_count": 46,
   "id": "b9452d1c",
   "metadata": {},
   "outputs": [],
   "source": [
    "window_fun = Window.partitionBy(\"customer_id\").orderBy(\"order_date\")"
   ]
  },
  {
   "cell_type": "code",
   "execution_count": 47,
   "id": "ee88f195",
   "metadata": {},
   "outputs": [
    {
     "name": "stdout",
     "output_type": "stream",
     "text": [
      "+-----------+------------+\n",
      "|customer_id|product_name|\n",
      "+-----------+------------+\n",
      "|          A|       curry|\n",
      "|          A|       sushi|\n",
      "|          B|       curry|\n",
      "|          C|       ramen|\n",
      "+-----------+------------+\n",
      "\n"
     ]
    }
   ],
   "source": [
    "q3_df = sales_df.withColumn(\"rank\",sf.dense_rank().over(window_fun)) \\\n",
    "                .filter(\"rank==1\") \\\n",
    "                .join(product_df,\"product_id\") \\\n",
    "                .select(\"customer_id\",\"product_name\") \\\n",
    "                .distinct() \\\n",
    "                .orderBy(\"customer_id\")\n",
    "q3_df.show()"
   ]
  },
  {
   "cell_type": "markdown",
   "id": "a3ee2c60",
   "metadata": {},
   "source": [
    "Q4. What is the most purchased item on the menu and how many times was it purchased by all customers?"
   ]
  },
  {
   "cell_type": "code",
   "execution_count": 48,
   "id": "28e8bf09",
   "metadata": {},
   "outputs": [
    {
     "name": "stdout",
     "output_type": "stream",
     "text": [
      "+------------+-------------------------------------+\n",
      "|product_name|Number of Purchases made by customers|\n",
      "+------------+-------------------------------------+\n",
      "|       ramen|                                    8|\n",
      "|       curry|                                    4|\n",
      "|       sushi|                                    3|\n",
      "+------------+-------------------------------------+\n",
      "\n",
      "As per the above table, ramen is the most purchased item on the menu and it has been purchased 8 times by customers.\n"
     ]
    }
   ],
   "source": [
    "q4_df = sales_df.join(product_df,\"product_id\") \\\n",
    "                .groupBy(\"product_name\") \\\n",
    "                .agg(sf.count(\"customer_id\").alias(\"Number of Purchases made by customers\")) \\\n",
    "                .orderBy(sf.desc(\"Number of Purchases made by customers\"))\n",
    "q4_df.show()\n",
    "print(f\"As per the above table, {q4_df.collect()[0][0]} is the most purchased item on the menu and it has been purchased {q4_df.collect()[0][1]} times by customers.\")"
   ]
  },
  {
   "cell_type": "markdown",
   "id": "56686d79",
   "metadata": {},
   "source": [
    "Q5. Which item was the most popular for each customer?"
   ]
  },
  {
   "cell_type": "code",
   "execution_count": 49,
   "id": "e16f00db",
   "metadata": {},
   "outputs": [
    {
     "name": "stdout",
     "output_type": "stream",
     "text": [
      "+-----------+------------+-----------+\n",
      "|customer_id|product_name|order_count|\n",
      "+-----------+------------+-----------+\n",
      "|          A|       ramen|          3|\n",
      "|          B|       curry|          2|\n",
      "|          B|       ramen|          2|\n",
      "|          B|       sushi|          2|\n",
      "|          C|       ramen|          3|\n",
      "+-----------+------------+-----------+\n",
      "\n"
     ]
    }
   ],
   "source": [
    "q5_df = sales_df.join(product_df,\"product_id\") \\\n",
    "                .groupBy(\"customer_id\",\"product_name\") \\\n",
    "                .agg(sf.count(\"product_name\").alias(\"order_count\")) \\\n",
    "                .withColumn(\"rank\",sf.dense_rank().over(Window.partitionBy(\"customer_id\")\n",
    "                                                        .orderBy(sf.col(\"order_count\").desc()))) \\\n",
    "                .filter(\"rank == 1\") \\\n",
    "                .select(\"customer_id\",\"product_name\",\"order_count\") \\\n",
    "                .orderBy(\"customer_id\",\"product_name\")\n",
    "q5_df.show()"
   ]
  },
  {
   "cell_type": "markdown",
   "id": "3d12665b",
   "metadata": {},
   "source": [
    "Q6. Which item was purchased first by the customer after they became a member?"
   ]
  },
  {
   "cell_type": "code",
   "execution_count": 50,
   "id": "dc3c911f",
   "metadata": {},
   "outputs": [
    {
     "name": "stdout",
     "output_type": "stream",
     "text": [
      "+-----------+----------+------------+\n",
      "|customer_id|order_date|product_name|\n",
      "+-----------+----------+------------+\n",
      "|          A|2021-01-10|       ramen|\n",
      "|          B|2021-01-11|       sushi|\n",
      "+-----------+----------+------------+\n",
      "\n"
     ]
    }
   ],
   "source": [
    "q6_df = sales_df.join(member_df,\"customer_id\",\"inner\") \\\n",
    "                .filter(sf.col(\"order_date\")>sf.col(\"join_date\")) \\\n",
    "                .withColumn(\"rank\",sf.dense_rank().over(Window.partitionBy(\"customer_id\").orderBy(\"order_date\"))) \\\n",
    "                .filter(\"rank == 1\") \\\n",
    "                .join(product_df,\"product_id\") \\\n",
    "                .select(\"customer_id\",\"order_date\",\"product_name\") \\\n",
    "                .orderBy(\"customer_id\")\n",
    "q6_df.show()"
   ]
  },
  {
   "cell_type": "markdown",
   "id": "ef13f9fb",
   "metadata": {},
   "source": [
    "Q7. Which item was purchased just before the customer became a member?"
   ]
  },
  {
   "cell_type": "code",
   "execution_count": 51,
   "id": "5fbe2bfd",
   "metadata": {},
   "outputs": [
    {
     "name": "stdout",
     "output_type": "stream",
     "text": [
      "+-----------+----------+------------+\n",
      "|customer_id|order_date|product_name|\n",
      "+-----------+----------+------------+\n",
      "|          A|2021-01-01|       curry|\n",
      "|          A|2021-01-01|       sushi|\n",
      "|          B|2021-01-04|       sushi|\n",
      "+-----------+----------+------------+\n",
      "\n"
     ]
    }
   ],
   "source": [
    "q7_df = sales_df.join(member_df,\"customer_id\",\"inner\") \\\n",
    "                .filter(sf.col(\"order_date\")<sf.col(\"join_date\")) \\\n",
    "                .withColumn(\"rank\",sf.dense_rank().over(Window.partitionBy(\"customer_id\")\n",
    "                                                        .orderBy(sf.col(\"order_date\").desc()))) \\\n",
    "                .filter(\"rank == 1\") \\\n",
    "                .join(product_df,\"product_id\") \\\n",
    "                .select(\"customer_id\",\"order_date\",\"product_name\") \\\n",
    "                .orderBy(\"customer_id\")\n",
    "q7_df.show()"
   ]
  },
  {
   "cell_type": "markdown",
   "id": "994d77a1",
   "metadata": {},
   "source": [
    "Q8. What is the total items and amount spent for each member before they became a member?"
   ]
  },
  {
   "cell_type": "code",
   "execution_count": 52,
   "id": "12cd673d",
   "metadata": {
    "scrolled": true
   },
   "outputs": [
    {
     "name": "stdout",
     "output_type": "stream",
     "text": [
      "+-----------+-----------+------------+\n",
      "|customer_id|Total_Items|Total_Amount|\n",
      "+-----------+-----------+------------+\n",
      "|          A|          2|          25|\n",
      "|          B|          3|          40|\n",
      "+-----------+-----------+------------+\n",
      "\n"
     ]
    }
   ],
   "source": [
    "q8_df = sales_df.join(member_df,\"customer_id\",\"inner\") \\\n",
    "                .filter(sf.col(\"order_date\")<sf.col(\"join_date\")) \\\n",
    "                .join(product_df,\"product_id\") \\\n",
    "                .groupBy(\"customer_id\") \\\n",
    "                .agg(sf.count(\"product_name\").alias(\"Total_Items\"),sf.sum(\"price\").alias(\"Total_Amount\")) \\\n",
    "                .orderBy(\"customer_id\")\n",
    "q8_df.show()"
   ]
  },
  {
   "cell_type": "markdown",
   "id": "3e851022",
   "metadata": {},
   "source": [
    "Q9. If each $1 spent equates to 10 points and sushi has a 2x points multiplier. How many points would each customer have?"
   ]
  },
  {
   "cell_type": "code",
   "execution_count": 53,
   "id": "c8bad265",
   "metadata": {},
   "outputs": [
    {
     "name": "stdout",
     "output_type": "stream",
     "text": [
      "+-----------+---------------------+\n",
      "|customer_id|Total Customer Points|\n",
      "+-----------+---------------------+\n",
      "|          A|                  860|\n",
      "|          B|                  940|\n",
      "|          C|                  360|\n",
      "+-----------+---------------------+\n",
      "\n"
     ]
    }
   ],
   "source": [
    "q9_df = sales_df.join(product_df,\"product_id\") \\\n",
    "                .withColumn(\"Points\",sf.when(sf.col(\"product_name\")=='sushi',\n",
    "                                             sf.col(\"price\")*20).otherwise(sf.col(\"price\")*10)) \\\n",
    "                .groupBy(\"customer_id\") \\\n",
    "                .agg(sf.sum(\"Points\").alias(\"Total Customer Points\")) \\\n",
    "                .orderBy(\"customer_id\")\n",
    "q9_df.show()"
   ]
  },
  {
   "cell_type": "markdown",
   "id": "f0796f49",
   "metadata": {},
   "source": [
    "Q10. In the first week after a customer joins the program (including their join date) they earn 2x points on all items, not just sushi. How many points do customer A and B have at the end of January?"
   ]
  },
  {
   "cell_type": "code",
   "execution_count": 54,
   "id": "a0a30812",
   "metadata": {},
   "outputs": [
    {
     "name": "stdout",
     "output_type": "stream",
     "text": [
      "+-----------+---------------------+\n",
      "|customer_id|Total Customer Points|\n",
      "+-----------+---------------------+\n",
      "|          A|                 1370|\n",
      "|          B|                  820|\n",
      "+-----------+---------------------+\n",
      "\n"
     ]
    }
   ],
   "source": [
    "q10_df = sales_df.join(member_df,\"customer_id\") \\\n",
    "                 .filter(sf.month(\"order_date\") == 1) \\\n",
    "                 .join(product_df,\"product_id\") \\\n",
    "                 .withColumn(\"Customer Points\",\n",
    "                             sf.when((sf.col(\"order_date\")>=sf.col(\"join_date\"))&\n",
    "                                     (sf.col(\"order_date\").between(sf.col(\"join_date\"),sf.date_add(sf.col(\"join_date\"),6))),\n",
    "                                     sf.col(\"price\")*20)\n",
    "                            .when(sf.col(\"product_name\")=='sushi',sf.col(\"price\")*20).otherwise(sf.col(\"price\")*10)) \\\n",
    "                 .groupBy(\"customer_id\") \\\n",
    "                 .agg(sf.sum(\"Customer Points\").alias(\"Total Customer Points\")) \\\n",
    "                 .orderBy(\"customer_id\")\n",
    "\n",
    "q10_df.show()"
   ]
  },
  {
   "cell_type": "markdown",
   "id": "9949b256",
   "metadata": {},
   "source": [
    "Bonus Questions\n",
    "Join All The Things\n",
    "The following questions are related creating basic data tables that Danny and his team can use to quickly derive insights without needing to join the underlying tables using SQL.\n",
    "\n",
    "Recreate the following table output using the available data:"
   ]
  },
  {
   "cell_type": "code",
   "execution_count": 55,
   "id": "8df56ca1",
   "metadata": {},
   "outputs": [
    {
     "name": "stdout",
     "output_type": "stream",
     "text": [
      "+-----------+----------+------------+-----+------+\n",
      "|customer_id|order_date|product_name|price|member|\n",
      "+-----------+----------+------------+-----+------+\n",
      "|          A|2021-01-01|       sushi|   10|     N|\n",
      "|          A|2021-01-01|       curry|   15|     N|\n",
      "|          A|2021-01-07|       curry|   15|     Y|\n",
      "|          A|2021-01-10|       ramen|   12|     Y|\n",
      "|          A|2021-01-11|       ramen|   12|     Y|\n",
      "|          A|2021-01-11|       ramen|   12|     Y|\n",
      "|          B|2021-01-01|       curry|   15|     N|\n",
      "|          B|2021-01-02|       curry|   15|     N|\n",
      "|          B|2021-01-04|       sushi|   10|     N|\n",
      "|          B|2021-01-11|       sushi|   10|     Y|\n",
      "|          B|2021-01-16|       ramen|   12|     Y|\n",
      "|          B|2021-02-01|       ramen|   12|     Y|\n",
      "|          C|2021-01-01|       ramen|   12|     N|\n",
      "|          C|2021-01-01|       ramen|   12|     N|\n",
      "|          C|2021-01-07|       ramen|   12|     N|\n",
      "+-----------+----------+------------+-----+------+\n",
      "\n"
     ]
    }
   ],
   "source": [
    "q11_df = sales_df.join(member_df,\"customer_id\",\"left\") \\\n",
    "                 .join(product_df,\"product_id\") \\\n",
    "                 .withColumn(\"member\",sf.when(sf.col(\"join_date\").isNull(),\"N\")\n",
    "                             .when(sf.col(\"join_date\")>sf.col(\"order_date\"),\"N\")\n",
    "                             .otherwise(\"Y\")) \\\n",
    "                 .select(\"customer_id\",\"order_date\",\"product_name\",\"price\",\"member\") \\\n",
    "                 .orderBy(\"customer_id\",\"order_date\")\n",
    "q11_df.show()"
   ]
  },
  {
   "cell_type": "markdown",
   "id": "533f8a84",
   "metadata": {},
   "source": [
    "Rank All The Things\n",
    "Danny also requires further information about the ranking of customer products, but he purposely does not need the ranking for non-member purchases so he expects null ranking values for the records when customers are not yet part of the loyalty program."
   ]
  },
  {
   "cell_type": "code",
   "execution_count": 56,
   "id": "5e48da41",
   "metadata": {},
   "outputs": [
    {
     "name": "stdout",
     "output_type": "stream",
     "text": [
      "+-----------+----------+------------+-----+------+-------+\n",
      "|customer_id|order_date|product_name|price|member|ranking|\n",
      "+-----------+----------+------------+-----+------+-------+\n",
      "|          A|2021-01-01|       sushi|   10|     N|   null|\n",
      "|          A|2021-01-01|       curry|   15|     N|   null|\n",
      "|          A|2021-01-07|       curry|   15|     Y|      1|\n",
      "|          A|2021-01-10|       ramen|   12|     Y|      2|\n",
      "|          A|2021-01-11|       ramen|   12|     Y|      3|\n",
      "|          A|2021-01-11|       ramen|   12|     Y|      3|\n",
      "|          B|2021-01-01|       curry|   15|     N|   null|\n",
      "|          B|2021-01-02|       curry|   15|     N|   null|\n",
      "|          B|2021-01-04|       sushi|   10|     N|   null|\n",
      "|          B|2021-01-11|       sushi|   10|     Y|      1|\n",
      "|          B|2021-01-16|       ramen|   12|     Y|      2|\n",
      "|          B|2021-02-01|       ramen|   12|     Y|      3|\n",
      "|          C|2021-01-01|       ramen|   12|     N|   null|\n",
      "|          C|2021-01-01|       ramen|   12|     N|   null|\n",
      "|          C|2021-01-07|       ramen|   12|     N|   null|\n",
      "+-----------+----------+------------+-----+------+-------+\n",
      "\n"
     ]
    }
   ],
   "source": [
    "q12_df = sales_df.join(member_df,\"customer_id\",\"left\") \\\n",
    "                 .join(product_df,\"product_id\") \\\n",
    "                 .withColumn(\"member\",sf.when(sf.col(\"join_date\").isNull(),\"N\")\n",
    "                             .when(sf.col(\"join_date\")>sf.col(\"order_date\"),\"N\")\n",
    "                             .otherwise(\"Y\")) \\\n",
    "                 .withColumn(\"ranking\",sf.when(sf.col(\"member\") == \"Y\",\n",
    "                                               sf.dense_rank().over(Window.partitionBy(\"customer_id\",\"member\")\n",
    "                                                                    .orderBy(\"order_date\")))) \\\n",
    "                 .select(\"customer_id\",\"order_date\",\"product_name\",\"price\",\"member\",\"ranking\") \\\n",
    "                 .orderBy(\"customer_id\",\"order_date\")\n",
    "q12_df.show()"
   ]
  },
  {
   "cell_type": "code",
   "execution_count": null,
   "id": "f6334ac0",
   "metadata": {},
   "outputs": [],
   "source": []
  }
 ],
 "metadata": {
  "kernelspec": {
   "display_name": "Python 3 (ipykernel)",
   "language": "python",
   "name": "python3"
  },
  "language_info": {
   "codemirror_mode": {
    "name": "ipython",
    "version": 3
   },
   "file_extension": ".py",
   "mimetype": "text/x-python",
   "name": "python",
   "nbconvert_exporter": "python",
   "pygments_lexer": "ipython3",
   "version": "3.10.2"
  }
 },
 "nbformat": 4,
 "nbformat_minor": 5
}
